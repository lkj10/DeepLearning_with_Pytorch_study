{
 "cells": [
  {
   "cell_type": "code",
   "execution_count": 77,
   "id": "face35a4",
   "metadata": {},
   "outputs": [],
   "source": [
    "import torch\n",
    "import torch.nn as nn\n",
    "import torch.optim as optim\n",
    "import torch.nn.functional as F\n",
    "from torchvision import transforms, datasets\n",
    "import torchvision\n",
    "import matplotlib.pyplot as plt\n",
    "import numpy as np"
   ]
  },
  {
   "cell_type": "code",
   "execution_count": 86,
   "id": "84848913",
   "metadata": {},
   "outputs": [],
   "source": [
    "EPOCHS = 5\n",
    "BATCH_SIZE = 1000\n",
    "\n",
    "train_loader = torch.utils.data.DataLoader(\n",
    "datasets.MNIST('./data',\n",
    "              train=True,\n",
    "              download=True,\n",
    "              transform=transforms.Compose([\n",
    "                  transforms.ToTensor(),\n",
    "                  transforms.Resize((224,224))\n",
    "                  #transforms.Normalize((0.1307,), (0.3081,))\n",
    "              ])),\n",
    "    batch_size=BATCH_SIZE, shuffle=True)\n",
    "\n",
    "test_loader = torch.utils.data.DataLoader(\n",
    "    datasets.MNIST('./data',\n",
    "                  train=False,\n",
    "                   download=True,\n",
    "                  transform=transforms.Compose([\n",
    "                      transforms.ToTensor(),\n",
    "                      transforms.Resize((224,224))\n",
    "                      #transforms.Normalize((0.1307,), (0.3081,))\n",
    "                  ])),\n",
    "    batch_size=BATCH_SIZE, shuffle=True)"
   ]
  },
  {
   "cell_type": "code",
   "execution_count": 79,
   "id": "ee3ad457",
   "metadata": {},
   "outputs": [],
   "source": [
    "no_cuda = False\n",
    "use_cuda = not no_cuda and torch.cuda.is_available()\n",
    "DEVICE = torch.device(\"cuda\" if use_cuda else \"cpu\")"
   ]
  },
  {
   "cell_type": "code",
   "execution_count": 80,
   "id": "4df55ec4",
   "metadata": {},
   "outputs": [],
   "source": [
    "#model = Net().to(DEVICE)\n",
    "model = torchvision.models.alexnet().to(DEVICE)\n",
    "optimizer = optim.SGD(model.parameters(), lr = 0.01, momentum = 0.5)"
   ]
  },
  {
   "cell_type": "code",
   "execution_count": 81,
   "id": "ddd55525",
   "metadata": {},
   "outputs": [],
   "source": [
    "def train(model, train_loader, optimizer, epoch):\n",
    "    model.train()\n",
    "    for batch_idx, (data, target) in enumerate(train_loader):\n",
    "        data, target = data.to(DEVICE), target.to(DEVICE)\n",
    "        data = torch.cat([data, data, data], dim = 1)\n",
    "        optimizer.zero_grad()\n",
    "        output = model(data)\n",
    "        loss = F.cross_entropy(output, target)\n",
    "        loss.backward()\n",
    "        optimizer.step()\n",
    "        print('Train Epoch: {} [{}/{} ({:.0f}%)]\\tLoss: {:.6f}'.format(epoch, batch_idx * len(data), len(train_loader.dataset),100. * batch_idx / len(train_loader), loss.item()))"
   ]
  },
  {
   "cell_type": "code",
   "execution_count": 82,
   "id": "e564a69d",
   "metadata": {},
   "outputs": [],
   "source": [
    "def evaluate(model, test_loader):\n",
    "    model.eval()\n",
    "    test_loss = 0\n",
    "    correct = 0\n",
    "    with torch.no_grad():\n",
    "        for data, target in test_loader:\n",
    "            \n",
    "            data, target = data.to(DEVICE), target.to(DEVICE)\n",
    "            data = torch.cat([data, data, data], dim = 1)\n",
    "            \n",
    "            test_loss += F.cross_entropy(output, target, reduction = 'sum').item()\n",
    "            output = model(data)\n",
    "            pred = output.max(1, keepdim = True)[1]\n",
    "            correct += pred.eq(target.view_as(pred)).sum().item()\n",
    "            \n",
    "        test_loss /= len(test_loader.dataset)\n",
    "        test_accuracy = 100. * correct / len(test_loader.dataset)\n",
    "        return test_loss, test_accuracy"
   ]
  },
  {
   "cell_type": "code",
   "execution_count": 87,
   "id": "3ffdfb1c",
   "metadata": {},
   "outputs": [
    {
     "name": "stdout",
     "output_type": "stream",
     "text": [
      "Train Epoch: 1 [0/60000 (0%)]\tLoss: 6.838374\n",
      "Train Epoch: 1 [1000/60000 (2%)]\tLoss: 6.835715\n",
      "Train Epoch: 1 [2000/60000 (3%)]\tLoss: 6.832721\n",
      "Train Epoch: 1 [3000/60000 (5%)]\tLoss: 6.830316\n",
      "Train Epoch: 1 [4000/60000 (7%)]\tLoss: 6.826842\n",
      "Train Epoch: 1 [5000/60000 (8%)]\tLoss: 6.824076\n",
      "Train Epoch: 1 [6000/60000 (10%)]\tLoss: 6.819970\n",
      "Train Epoch: 1 [7000/60000 (12%)]\tLoss: 6.816611\n",
      "Train Epoch: 1 [8000/60000 (13%)]\tLoss: 6.814687\n",
      "Train Epoch: 1 [9000/60000 (15%)]\tLoss: 6.811122\n",
      "Train Epoch: 1 [10000/60000 (17%)]\tLoss: 6.805982\n",
      "Train Epoch: 1 [11000/60000 (18%)]\tLoss: 6.804158\n",
      "Train Epoch: 1 [12000/60000 (20%)]\tLoss: 6.801765\n",
      "Train Epoch: 1 [13000/60000 (22%)]\tLoss: 6.797543\n",
      "Train Epoch: 1 [14000/60000 (23%)]\tLoss: 6.794478\n",
      "Train Epoch: 1 [15000/60000 (25%)]\tLoss: 6.789761\n",
      "Train Epoch: 1 [16000/60000 (27%)]\tLoss: 6.787218\n",
      "Train Epoch: 1 [17000/60000 (28%)]\tLoss: 6.783729\n",
      "Train Epoch: 1 [18000/60000 (30%)]\tLoss: 6.780177\n",
      "Train Epoch: 1 [19000/60000 (32%)]\tLoss: 6.774831\n",
      "Train Epoch: 1 [20000/60000 (33%)]\tLoss: 6.771854\n",
      "Train Epoch: 1 [21000/60000 (35%)]\tLoss: 6.768361\n",
      "Train Epoch: 1 [22000/60000 (37%)]\tLoss: 6.763690\n",
      "Train Epoch: 1 [23000/60000 (38%)]\tLoss: 6.759798\n",
      "Train Epoch: 1 [24000/60000 (40%)]\tLoss: 6.756147\n",
      "Train Epoch: 1 [25000/60000 (42%)]\tLoss: 6.750831\n",
      "Train Epoch: 1 [26000/60000 (43%)]\tLoss: 6.747179\n",
      "Train Epoch: 1 [27000/60000 (45%)]\tLoss: 6.741744\n",
      "Train Epoch: 1 [28000/60000 (47%)]\tLoss: 6.737146\n",
      "Train Epoch: 1 [29000/60000 (48%)]\tLoss: 6.731777\n",
      "Train Epoch: 1 [30000/60000 (50%)]\tLoss: 6.725451\n",
      "Train Epoch: 1 [31000/60000 (52%)]\tLoss: 6.719491\n",
      "Train Epoch: 1 [32000/60000 (53%)]\tLoss: 6.710223\n",
      "Train Epoch: 1 [33000/60000 (55%)]\tLoss: 6.705129\n",
      "Train Epoch: 1 [34000/60000 (57%)]\tLoss: 6.697061\n",
      "Train Epoch: 1 [35000/60000 (58%)]\tLoss: 6.685616\n",
      "Train Epoch: 1 [36000/60000 (60%)]\tLoss: 6.676906\n",
      "Train Epoch: 1 [37000/60000 (62%)]\tLoss: 6.657892\n",
      "Train Epoch: 1 [38000/60000 (63%)]\tLoss: 6.641823\n",
      "Train Epoch: 1 [39000/60000 (65%)]\tLoss: 6.618585\n",
      "Train Epoch: 1 [40000/60000 (67%)]\tLoss: 6.589431\n",
      "Train Epoch: 1 [41000/60000 (68%)]\tLoss: 6.546664\n",
      "Train Epoch: 1 [42000/60000 (70%)]\tLoss: 6.480484\n",
      "Train Epoch: 1 [43000/60000 (72%)]\tLoss: 6.374902\n",
      "Train Epoch: 1 [44000/60000 (73%)]\tLoss: 6.184151\n",
      "Train Epoch: 1 [45000/60000 (75%)]\tLoss: 5.773856\n",
      "Train Epoch: 1 [46000/60000 (77%)]\tLoss: 4.647635\n",
      "Train Epoch: 1 [47000/60000 (78%)]\tLoss: 2.501810\n",
      "Train Epoch: 1 [48000/60000 (80%)]\tLoss: 2.584944\n",
      "Train Epoch: 1 [49000/60000 (82%)]\tLoss: 5.722869\n",
      "Train Epoch: 1 [50000/60000 (83%)]\tLoss: 4.417057\n",
      "Train Epoch: 1 [51000/60000 (85%)]\tLoss: 5.406930\n",
      "Train Epoch: 1 [52000/60000 (87%)]\tLoss: 5.634757\n",
      "Train Epoch: 1 [53000/60000 (88%)]\tLoss: 4.869094\n",
      "Train Epoch: 1 [54000/60000 (90%)]\tLoss: 4.899291\n",
      "Train Epoch: 1 [55000/60000 (92%)]\tLoss: 4.336240\n",
      "Train Epoch: 1 [56000/60000 (93%)]\tLoss: 4.267198\n",
      "Train Epoch: 1 [57000/60000 (95%)]\tLoss: 3.961958\n",
      "Train Epoch: 1 [58000/60000 (97%)]\tLoss: 3.808912\n",
      "Train Epoch: 1 [59000/60000 (98%)]\tLoss: 3.696740\n"
     ]
    },
    {
     "ename": "UnboundLocalError",
     "evalue": "local variable 'output' referenced before assignment",
     "output_type": "error",
     "traceback": [
      "\u001b[1;31m---------------------------------------------------------------------------\u001b[0m",
      "\u001b[1;31mUnboundLocalError\u001b[0m                         Traceback (most recent call last)",
      "\u001b[1;32m<ipython-input-87-fa42dc9dedff>\u001b[0m in \u001b[0;36m<module>\u001b[1;34m\u001b[0m\n\u001b[0;32m      1\u001b[0m \u001b[1;32mfor\u001b[0m \u001b[0mepoch\u001b[0m \u001b[1;32min\u001b[0m \u001b[0mrange\u001b[0m\u001b[1;33m(\u001b[0m\u001b[1;36m1\u001b[0m\u001b[1;33m,\u001b[0m \u001b[0mEPOCHS\u001b[0m \u001b[1;33m+\u001b[0m \u001b[1;36m1\u001b[0m\u001b[1;33m)\u001b[0m\u001b[1;33m:\u001b[0m\u001b[1;33m\u001b[0m\u001b[1;33m\u001b[0m\u001b[0m\n\u001b[0;32m      2\u001b[0m     \u001b[0mtrain\u001b[0m\u001b[1;33m(\u001b[0m\u001b[0mmodel\u001b[0m\u001b[1;33m,\u001b[0m \u001b[0mtrain_loader\u001b[0m\u001b[1;33m,\u001b[0m \u001b[0moptimizer\u001b[0m\u001b[1;33m,\u001b[0m \u001b[0mepoch\u001b[0m\u001b[1;33m)\u001b[0m\u001b[1;33m\u001b[0m\u001b[1;33m\u001b[0m\u001b[0m\n\u001b[1;32m----> 3\u001b[1;33m     \u001b[0mtest_loss\u001b[0m\u001b[1;33m,\u001b[0m \u001b[0mtest_accuracy\u001b[0m \u001b[1;33m=\u001b[0m \u001b[0mevaluate\u001b[0m\u001b[1;33m(\u001b[0m\u001b[0mmodel\u001b[0m\u001b[1;33m,\u001b[0m \u001b[0mtest_loader\u001b[0m\u001b[1;33m)\u001b[0m\u001b[1;33m\u001b[0m\u001b[1;33m\u001b[0m\u001b[0m\n\u001b[0m\u001b[0;32m      4\u001b[0m     \u001b[0mprint\u001b[0m\u001b[1;33m(\u001b[0m\u001b[1;34m'[{}] Test Loss : {:.4f}, Accuracy : {:.2f}%'\u001b[0m\u001b[1;33m.\u001b[0m\u001b[0mformat\u001b[0m\u001b[1;33m(\u001b[0m\u001b[0mepoch\u001b[0m\u001b[1;33m,\u001b[0m \u001b[0mtest_loss\u001b[0m\u001b[1;33m,\u001b[0m \u001b[0mtest_accuracy\u001b[0m\u001b[1;33m)\u001b[0m\u001b[1;33m)\u001b[0m\u001b[1;33m\u001b[0m\u001b[1;33m\u001b[0m\u001b[0m\n",
      "\u001b[1;32m<ipython-input-82-13289c080092>\u001b[0m in \u001b[0;36mevaluate\u001b[1;34m(model, test_loader)\u001b[0m\n\u001b[0;32m      9\u001b[0m             \u001b[0mdata\u001b[0m \u001b[1;33m=\u001b[0m \u001b[0mtorch\u001b[0m\u001b[1;33m.\u001b[0m\u001b[0mcat\u001b[0m\u001b[1;33m(\u001b[0m\u001b[1;33m[\u001b[0m\u001b[0mdata\u001b[0m\u001b[1;33m,\u001b[0m \u001b[0mdata\u001b[0m\u001b[1;33m,\u001b[0m \u001b[0mdata\u001b[0m\u001b[1;33m]\u001b[0m\u001b[1;33m,\u001b[0m \u001b[0mdim\u001b[0m \u001b[1;33m=\u001b[0m \u001b[1;36m1\u001b[0m\u001b[1;33m)\u001b[0m\u001b[1;33m\u001b[0m\u001b[1;33m\u001b[0m\u001b[0m\n\u001b[0;32m     10\u001b[0m \u001b[1;33m\u001b[0m\u001b[0m\n\u001b[1;32m---> 11\u001b[1;33m             \u001b[0mtest_loss\u001b[0m \u001b[1;33m+=\u001b[0m \u001b[0mF\u001b[0m\u001b[1;33m.\u001b[0m\u001b[0mcross_entropy\u001b[0m\u001b[1;33m(\u001b[0m\u001b[0moutput\u001b[0m\u001b[1;33m,\u001b[0m \u001b[0mtarget\u001b[0m\u001b[1;33m,\u001b[0m \u001b[0mreduction\u001b[0m \u001b[1;33m=\u001b[0m \u001b[1;34m'sum'\u001b[0m\u001b[1;33m)\u001b[0m\u001b[1;33m.\u001b[0m\u001b[0mitem\u001b[0m\u001b[1;33m(\u001b[0m\u001b[1;33m)\u001b[0m\u001b[1;33m\u001b[0m\u001b[1;33m\u001b[0m\u001b[0m\n\u001b[0m\u001b[0;32m     12\u001b[0m             \u001b[0moutput\u001b[0m \u001b[1;33m=\u001b[0m \u001b[0mmodel\u001b[0m\u001b[1;33m(\u001b[0m\u001b[0mdata\u001b[0m\u001b[1;33m)\u001b[0m\u001b[1;33m\u001b[0m\u001b[1;33m\u001b[0m\u001b[0m\n\u001b[0;32m     13\u001b[0m             \u001b[0mpred\u001b[0m \u001b[1;33m=\u001b[0m \u001b[0moutput\u001b[0m\u001b[1;33m.\u001b[0m\u001b[0mmax\u001b[0m\u001b[1;33m(\u001b[0m\u001b[1;36m1\u001b[0m\u001b[1;33m,\u001b[0m \u001b[0mkeepdim\u001b[0m \u001b[1;33m=\u001b[0m \u001b[1;32mTrue\u001b[0m\u001b[1;33m)\u001b[0m\u001b[1;33m[\u001b[0m\u001b[1;36m1\u001b[0m\u001b[1;33m]\u001b[0m\u001b[1;33m\u001b[0m\u001b[1;33m\u001b[0m\u001b[0m\n",
      "\u001b[1;31mUnboundLocalError\u001b[0m: local variable 'output' referenced before assignment"
     ]
    }
   ],
   "source": [
    "for epoch in range(1, EPOCHS + 1):\n",
    "    train(model, train_loader, optimizer, epoch)\n",
    "    test_loss, test_accuracy = evaluate(model, test_loader)\n",
    "    print('[{}] Test Loss : {:.4f}, Accuracy : {:.2f}%'.format(epoch, test_loss, test_accuracy))"
   ]
  }
 ],
 "metadata": {
  "kernelspec": {
   "display_name": "Python 3",
   "language": "python",
   "name": "python3"
  },
  "language_info": {
   "codemirror_mode": {
    "name": "ipython",
    "version": 3
   },
   "file_extension": ".py",
   "mimetype": "text/x-python",
   "name": "python",
   "nbconvert_exporter": "python",
   "pygments_lexer": "ipython3",
   "version": "3.8.8"
  }
 },
 "nbformat": 4,
 "nbformat_minor": 5
}
